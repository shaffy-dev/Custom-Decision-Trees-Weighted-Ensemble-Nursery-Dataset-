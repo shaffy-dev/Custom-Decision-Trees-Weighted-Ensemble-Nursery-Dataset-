{
  "cells": [
    {
      "cell_type": "markdown",
      "metadata": {
        "id": "view-in-github",
        "colab_type": "text"
      },
      "source": [
        "<a href=\"https://colab.research.google.com/github/shaffy-dev/Custom-Decision-Trees-Weighted-Ensemble-Nursery-Dataset-/blob/main/Muhammad_Shaff_Bin_Imran_task1.ipynb\" target=\"_parent\"><img src=\"https://colab.research.google.com/assets/colab-badge.svg\" alt=\"Open In Colab\"/></a>"
      ]
    },
    {
      "cell_type": "markdown",
      "id": "d2de84d2-5a8f-4fa0-9baa-a9c7a6a40a50",
      "metadata": {
        "id": "d2de84d2-5a8f-4fa0-9baa-a9c7a6a40a50"
      },
      "source": [
        "##\n",
        "## Big Data Mining Techniques and Implementation\n",
        "##"
      ]
    },
    {
      "cell_type": "markdown",
      "id": "7727ca4d-3595-4f91-bcbd-320315c40e9b",
      "metadata": {
        "id": "7727ca4d-3595-4f91-bcbd-320315c40e9b"
      },
      "source": [
        "### A1 - Task 1: Classification with Custom Decision Trees  \n",
        "###\n",
        "### By Shaff Bin Imran (7673899)\n",
        "###\n",
        "**In this task we will:**  \n",
        "1. Load and preprocess the Nursery dataset.  \n",
        "2. Implement two decision‑tree classifiers from scratch (one using Information Gain, one using Gini Index).  \n",
        "3. Build a weighted‑voting ensemble of these trees.  \n",
        "4. Evaluate each model using accuracy and confusion matrices.  \n",
        "5. Visualize the tree structure and performance results.\n",
        "###"
      ]
    },
    {
      "cell_type": "code",
      "execution_count": null,
      "id": "f79fe90c",
      "metadata": {
        "id": "f79fe90c"
      },
      "outputs": [],
      "source": [
        "import pandas as pd                # pandas to read and handle tables of data\n",
        "import numpy as np                 # numpy for math operations and arrays\n",
        "import matplotlib.pyplot as plt    # matplotlib to make charts and plots\n",
        "from sklearn.preprocessing import LabelEncoder     # to turn categories into numbers\n",
        "from sklearn.model_selection import train_test_split  # to split data into training and testing sets\n",
        "from sklearn.metrics import accuracy_score, confusion_matrix  # to check how well our model did\n"
      ]
    },
    {
      "cell_type": "markdown",
      "id": "771a730e-298b-4a25-94a8-abb9d411b131",
      "metadata": {
        "id": "771a730e-298b-4a25-94a8-abb9d411b131"
      },
      "source": [
        "##\n",
        "## 1 – Data Loading and Inspection\n",
        "\n",
        "**Objective:**  \n",
        "\n",
        "Load the Nursery dataset into a pandas DataFrame, inspect its structure (shape and column names), and verify data completeness. We will also look at the distribution of the target variable to understand class balance before preprocessing.\n"
      ]
    },
    {
      "cell_type": "code",
      "execution_count": null,
      "id": "74a5480a",
      "metadata": {
        "id": "74a5480a"
      },
      "outputs": [],
      "source": [
        "file_path = \"/Users/shaffimran/desktop/semester 5/csci316/assignments/assignment 1/a1/datasets/nursery.csv\"   #loading the dataset\n",
        "df = pd.read_csv(file_path)"
      ]
    },
    {
      "cell_type": "markdown",
      "id": "755fc570-1697-4c13-b57c-cd24d26a8513",
      "metadata": {
        "id": "755fc570-1697-4c13-b57c-cd24d26a8513"
      },
      "source": [
        "###\n",
        "### 1.1 Previewing the Dataset\n",
        "\n",
        "We display the first five rows of the DataFrame to familiarize ourselves with the feature columns (`usual`, `proper`, `complete`, etc.) and the target column (`recommend`). This lets us verify that the data loaded correctly and understand the categorical value formats before encoding.\n"
      ]
    },
    {
      "cell_type": "code",
      "execution_count": null,
      "id": "466282b0",
      "metadata": {
        "id": "466282b0",
        "outputId": "054d2e2a-cfa5-4100-de46-8d5101cfb879"
      },
      "outputs": [
        {
          "data": {
            "text/html": [
              "<div>\n",
              "<style scoped>\n",
              "    .dataframe tbody tr th:only-of-type {\n",
              "        vertical-align: middle;\n",
              "    }\n",
              "\n",
              "    .dataframe tbody tr th {\n",
              "        vertical-align: top;\n",
              "    }\n",
              "\n",
              "    .dataframe thead th {\n",
              "        text-align: right;\n",
              "    }\n",
              "</style>\n",
              "<table border=\"1\" class=\"dataframe\">\n",
              "  <thead>\n",
              "    <tr style=\"text-align: right;\">\n",
              "      <th></th>\n",
              "      <th>usual</th>\n",
              "      <th>proper</th>\n",
              "      <th>complete</th>\n",
              "      <th>1</th>\n",
              "      <th>convenient</th>\n",
              "      <th>convenient.1</th>\n",
              "      <th>nonprob</th>\n",
              "      <th>recommended</th>\n",
              "      <th>recommend</th>\n",
              "    </tr>\n",
              "  </thead>\n",
              "  <tbody>\n",
              "    <tr>\n",
              "      <th>0</th>\n",
              "      <td>usual</td>\n",
              "      <td>proper</td>\n",
              "      <td>complete</td>\n",
              "      <td>1</td>\n",
              "      <td>convenient</td>\n",
              "      <td>convenient</td>\n",
              "      <td>nonprob</td>\n",
              "      <td>priority</td>\n",
              "      <td>priority</td>\n",
              "    </tr>\n",
              "    <tr>\n",
              "      <th>1</th>\n",
              "      <td>usual</td>\n",
              "      <td>proper</td>\n",
              "      <td>complete</td>\n",
              "      <td>1</td>\n",
              "      <td>convenient</td>\n",
              "      <td>convenient</td>\n",
              "      <td>nonprob</td>\n",
              "      <td>not_recom</td>\n",
              "      <td>not_recom</td>\n",
              "    </tr>\n",
              "    <tr>\n",
              "      <th>2</th>\n",
              "      <td>usual</td>\n",
              "      <td>proper</td>\n",
              "      <td>complete</td>\n",
              "      <td>1</td>\n",
              "      <td>convenient</td>\n",
              "      <td>convenient</td>\n",
              "      <td>slightly_prob</td>\n",
              "      <td>recommended</td>\n",
              "      <td>recommend</td>\n",
              "    </tr>\n",
              "    <tr>\n",
              "      <th>3</th>\n",
              "      <td>usual</td>\n",
              "      <td>proper</td>\n",
              "      <td>complete</td>\n",
              "      <td>1</td>\n",
              "      <td>convenient</td>\n",
              "      <td>convenient</td>\n",
              "      <td>slightly_prob</td>\n",
              "      <td>priority</td>\n",
              "      <td>priority</td>\n",
              "    </tr>\n",
              "    <tr>\n",
              "      <th>4</th>\n",
              "      <td>usual</td>\n",
              "      <td>proper</td>\n",
              "      <td>complete</td>\n",
              "      <td>1</td>\n",
              "      <td>convenient</td>\n",
              "      <td>convenient</td>\n",
              "      <td>slightly_prob</td>\n",
              "      <td>not_recom</td>\n",
              "      <td>not_recom</td>\n",
              "    </tr>\n",
              "  </tbody>\n",
              "</table>\n",
              "</div>"
            ],
            "text/plain": [
              "   usual  proper  complete  1  convenient convenient.1        nonprob  \\\n",
              "0  usual  proper  complete  1  convenient   convenient        nonprob   \n",
              "1  usual  proper  complete  1  convenient   convenient        nonprob   \n",
              "2  usual  proper  complete  1  convenient   convenient  slightly_prob   \n",
              "3  usual  proper  complete  1  convenient   convenient  slightly_prob   \n",
              "4  usual  proper  complete  1  convenient   convenient  slightly_prob   \n",
              "\n",
              "   recommended  recommend  \n",
              "0     priority   priority  \n",
              "1    not_recom  not_recom  \n",
              "2  recommended  recommend  \n",
              "3     priority   priority  \n",
              "4    not_recom  not_recom  "
            ]
          },
          "execution_count": 76,
          "metadata": {},
          "output_type": "execute_result"
        }
      ],
      "source": [
        "df.head()  # shows the first five rows"
      ]
    },
    {
      "cell_type": "markdown",
      "id": "ef6e4f79-9309-4e5d-ac4a-83810d4e9931",
      "metadata": {
        "id": "ef6e4f79-9309-4e5d-ac4a-83810d4e9931"
      },
      "source": [
        "##\n",
        "**Preview of the Dataset**  \n",
        "The table above shows the first five rows of our DataFrame. We can observe:\n",
        "\n",
        "- **Feature columns**:\n",
        "  - `usual`, `proper`, `complete`, `1`, `convenient`, `convenient.1`, `nonprob`, `recommended`  \n",
        "    each holding categorical string values (e.g., “usual”, “pretentious”, “slightly_prob”).  \n",
        "- **Target column**: `recommend`  \n",
        "  containing the application ranking labels (`not_recom`, `priority`, `spec_prior`, `very_recom`, `recommend`).  \n",
        "\n",
        "This preview confirms that:\n",
        "1. All expected columns are present.  \n",
        "2. The categorical format (strings) is as described.  \n"
      ]
    },
    {
      "cell_type": "markdown",
      "id": "e34f9092-6265-4a4a-a6de-e1937913b142",
      "metadata": {
        "id": "e34f9092-6265-4a4a-a6de-e1937913b142"
      },
      "source": [
        "###\n",
        "### 1.2 Dataset Structure & Completeness\n",
        "\n",
        "Here we check the overall shape of the DataFrame, list all column names, and verify that there are no missing values. We also display the frequency of each class in the target variable (`recommend`) to understand class balance before encoding.\n"
      ]
    },
    {
      "cell_type": "code",
      "execution_count": null,
      "id": "ea6754f5",
      "metadata": {
        "id": "ea6754f5",
        "outputId": "b4df6f53-69ef-48df-84c8-bd6bba09107d"
      },
      "outputs": [
        {
          "name": "stdout",
          "output_type": "stream",
          "text": [
            "Shape: (12959, 9)\n",
            "\n",
            "Columns: ['usual', 'proper', 'complete', '1', 'convenient', 'convenient.1', 'nonprob', 'recommended', 'recommend']\n",
            "\n",
            "Missing values per column:\n",
            " usual           0\n",
            "proper          0\n",
            "complete        0\n",
            "1               0\n",
            "convenient      0\n",
            "convenient.1    0\n",
            "nonprob         0\n",
            "recommended     0\n",
            "recommend       0\n",
            "dtype: int64\n",
            "\n",
            "Target variable distribution:\n",
            "recommend\n",
            "not_recom     4320\n",
            "priority      4266\n",
            "spec_prior    4044\n",
            "very_recom     328\n",
            "recommend        1\n",
            "Name: count, dtype: int64\n"
          ]
        }
      ],
      "source": [
        "# Print basic dataset information\n",
        "print(\"Shape:\", df.shape)\n",
        "print(\"\\nColumns:\", df.columns.tolist())\n",
        "print(\"\\nMissing values per column:\\n\", df.isnull().sum())\n",
        "print(\"\\nTarget variable distribution:\")\n",
        "target_col = df.columns[-1]  # assuming the last column is the target\n",
        "print(df[target_col].value_counts())"
      ]
    },
    {
      "cell_type": "markdown",
      "id": "54879361-e987-47ec-802e-c09bd448af90",
      "metadata": {
        "id": "54879361-e987-47ec-802e-c09bd448af90"
      },
      "source": [
        "###\n",
        "### 1.3 Preprocessing & Train/Test Split\n",
        "\n",
        "We label‑encode all categorical features (including the target) to integer codes, then split the data randomly into 65% training and 35% testing sets. This prepares our data for numerical algorithms and ensures an unbiased evaluation of our custom trees.\n"
      ]
    },
    {
      "cell_type": "code",
      "execution_count": null,
      "id": "6a71493c",
      "metadata": {
        "id": "6a71493c",
        "outputId": "225fd899-ea3b-43db-df37-df9df9b37918"
      },
      "outputs": [
        {
          "name": "stdout",
          "output_type": "stream",
          "text": [
            "Training set shape: (8423, 8) (8423,)\n",
            "Test set shape:     (4536, 8) (4536,)\n",
            "\n",
            "First 5 rows of X_train:\n",
            "      usual  proper  complete  1  convenient  convenient.1  nonprob  \\\n",
            "20        2       3         0  0           2             0        2   \n",
            "6423      1       1         1  2           1             1        1   \n",
            "4993      1       3         2  0           2             0        1   \n",
            "934       2       2         0  1           0             1        1   \n",
            "8700      0       3         0  1           0             0        1   \n",
            "\n",
            "      recommended  \n",
            "20              2  \n",
            "6423            1  \n",
            "4993            0  \n",
            "934             0  \n",
            "8700            1  \n",
            "\n",
            "Training target distribution:\n",
            "recommend\n",
            "0    2828\n",
            "1    2747\n",
            "2       1\n",
            "3    2638\n",
            "4     209\n",
            "Name: count, dtype: int64\n",
            "\n",
            "Test target distribution:\n",
            "recommend\n",
            "0    1492\n",
            "1    1519\n",
            "3    1406\n",
            "4     119\n",
            "Name: count, dtype: int64\n"
          ]
        }
      ],
      "source": [
        "df_encoded = df.copy()  # make a full copy so we don't change the original data\n",
        "\n",
        "# turn each categorical column into numbers 0,1,2...\n",
        "for col in df_encoded.columns:\n",
        "    df_encoded[col] = LabelEncoder().fit_transform(df_encoded[col])\n",
        "\n",
        "# separate features (all but 'recommend') and target ('recommend')\n",
        "X = df_encoded.drop('recommend', axis=1)\n",
        "y = df_encoded['recommend']\n",
        "\n",
        "# split data: 65% for training, 35% for testing\n",
        "X_train, X_test, y_train, y_test = train_test_split(\n",
        "    X, y,\n",
        "    train_size=0.65,    # 65% train\n",
        "    random_state=42,    # fix the split for reproducibility\n",
        "    shuffle=True        # mix the rows before splitting\n",
        ")\n",
        "\n",
        "# show the sizes and first few rows to check everything looks right\n",
        "print(\"Training set shape:\", X_train.shape, y_train.shape)\n",
        "print(\"Test set shape:    \", X_test.shape, y_test.shape)\n",
        "print(\"\\nFirst 5 rows of X_train:\")\n",
        "print(X_train.head())\n",
        "\n",
        "print(\"\\nTraining target distribution:\")\n",
        "print(y_train.value_counts().sort_index())\n",
        "\n",
        "print(\"\\nTest target distribution:\")\n",
        "print(y_test.value_counts().sort_index())\n"
      ]
    },
    {
      "cell_type": "markdown",
      "id": "17502f45-3c1a-40be-b6da-bda367642809",
      "metadata": {
        "id": "17502f45-3c1a-40be-b6da-bda367642809"
      },
      "source": [
        "##\n",
        "**Preprocessing & Train/Test Split – Interpretation**  \n",
        "This output confirms that:\n",
        "\n",
        "- **Label encoding** successfully transformed all categorical features into integer codes, allowing our custom decision trees to process them numerically without implying any ordinal relationship among categories.  \n",
        "- The **65/35 split** produced 8 423 training samples and 4 536 test samples, ensuring ample data for model fitting while retaining a robust hold‑out set for unbiased evaluation.  \n",
        "- The **class distributions** reveal extreme imbalance—in particular, the single “recommend” instance resides in the training set, leaving that class absent from the test set.  \n",
        "- As a result, our high overall accuracy (~98 %) may overstate performance; the confusion matrix will be crucial to understand misclassification patterns among the remaining classes.  \n",
        "##"
      ]
    },
    {
      "cell_type": "markdown",
      "id": "69de9880-1025-4cc7-b7d2-8327e9c04a4d",
      "metadata": {
        "id": "69de9880-1025-4cc7-b7d2-8327e9c04a4d"
      },
      "source": [
        "## 2 – Custom Decision Tree Implementation\n",
        "\n",
        "### 2.1 Information Gain: Entropy & Split Metric\n",
        "\n",
        "We begin by defining the entropy function to measure impurity and then computing information gain for categorical splits. This metric tells us how much “purity” is gained by splitting on a given feature.\n"
      ]
    },
    {
      "cell_type": "code",
      "execution_count": null,
      "id": "5e98cb7e",
      "metadata": {
        "id": "5e98cb7e",
        "outputId": "07dfff9d-2e71-4bda-a454-f4a543ee4be9"
      },
      "outputs": [
        {
          "name": "stdout",
          "output_type": "stream",
          "text": [
            "\n",
            "Entropy of full training labels: 1.7142635393787635\n",
            "IG(usual): 0.06962878013459983\n",
            "IG(proper): 0.20086597956640495\n",
            "IG(complete): 0.004985351991393827\n"
          ]
        }
      ],
      "source": [
        "def entropy(labels):\n",
        "    # count how many times each class appears\n",
        "    counts = np.bincount(labels)\n",
        "    # convert counts to probabilities (ignore zero counts)\n",
        "    probs = counts[counts > 0] / len(labels)\n",
        "    # compute entropy formula: sum of -p * log2(p)\n",
        "    return -np.sum(probs * np.log2(probs))\n",
        "\n",
        "def information_gain(feature_values, labels):\n",
        "    # entropy before splitting\n",
        "    base_entropy = entropy(labels)\n",
        "    # find each category and how many samples it has\n",
        "    unique_vals, counts = np.unique(feature_values, return_counts=True)\n",
        "    # compute weighted entropy after splitting by that feature\n",
        "    weighted_entropy = sum(\n",
        "        (counts[i] / len(labels)) * entropy(labels[feature_values == val])\n",
        "        for i, val in enumerate(unique_vals)\n",
        "    )\n",
        "    # information gain is how much entropy we reduce\n",
        "    return base_entropy - weighted_entropy\n",
        "\n",
        "# show overall uncertainty in labels\n",
        "print(\"\\nEntropy of full training labels:\", entropy(y_train.values))\n",
        "# show info gain for first three features to see which splits matter most\n",
        "for feature in X_train.columns[:3]:\n",
        "    print(f\"IG({feature}):\", information_gain(X_train[feature].values, y_train.values))\n"
      ]
    },
    {
      "cell_type": "markdown",
      "id": "3800fb23-5afe-4a3c-9596-069e69617cdc",
      "metadata": {
        "id": "3800fb23-5afe-4a3c-9596-069e69617cdc"
      },
      "source": [
        "##\n",
        "**Entropy & Information Gain – Interpretation**  \n",
        "- The overall entropy of the training labels is **1.71 bits**, indicating substantial uncertainty among the five classes.  \n",
        "- When we compute information gain for each feature:  \n",
        "  - **`proper`** yields the highest gain (~0.20), so splitting on `proper` will reduce our uncertainty the most at the root.  \n",
        "  - **`usual`** provides a moderate gain (~0.07), making it a somewhat useful but suboptimal split.  \n",
        "  - **`complete`** gives almost zero gain (~0.005), meaning it does not meaningfully reduce label uncertainty and is not a good choice for a top‐level split.  \n",
        "- Consequently, our tree induction should choose **`proper`** as the first splitting feature under the Information Gain criterion.\n",
        "##"
      ]
    },
    {
      "cell_type": "markdown",
      "id": "8996fc78-fb10-42a7-be25-a5be42d406c9",
      "metadata": {
        "id": "8996fc78-fb10-42a7-be25-a5be42d406c9"
      },
      "source": [
        "### 2.2 Building the Information‑Gain Tree\n",
        "\n",
        "Using our information gain metric, we implement a recursive `build_tree` function that chooses the best feature at each node, stops on pure nodes or when no further gain is possible, and stores leaf predictions.\n"
      ]
    },
    {
      "cell_type": "code",
      "execution_count": null,
      "id": "1d1c8f66",
      "metadata": {
        "id": "1d1c8f66",
        "outputId": "4b0d7f48-0d82-4334-8c40-c92c7bc7644f"
      },
      "outputs": [
        {
          "name": "stdout",
          "output_type": "stream",
          "text": [
            "Predicted: 0   True: 0\n"
          ]
        }
      ],
      "source": [
        "# 1) Choose the feature that gives the biggest information gain\n",
        "def best_split_feature(X, y):\n",
        "    # compute IG for each feature\n",
        "    gains = {feat: information_gain(X[feat].values, y.values)\n",
        "             for feat in X.columns}\n",
        "    # pick the feature with the highest IG\n",
        "    best_feat = max(gains, key=gains.get)\n",
        "    return best_feat, gains[best_feat]\n",
        "\n",
        "# 2) Build the decision tree recursively\n",
        "def build_tree(X, y, min_samples=1):\n",
        "    # Stop if all samples have the same label → create a leaf node\n",
        "    if len(set(y)) == 1:\n",
        "        return {'is_leaf': True, 'prediction': y.iloc[0]}\n",
        "    # Stop if no features left or too few samples → majority class leaf\n",
        "    if X.shape[1] == 0 or len(y) <= min_samples:\n",
        "        majority = y.value_counts().idxmax()\n",
        "        return {'is_leaf': True, 'prediction': majority}\n",
        "\n",
        "    # Pick the best feature to split on\n",
        "    feat, gain = best_split_feature(X, y)\n",
        "    # If splitting doesn't help, make a leaf with majority class\n",
        "    if gain == 0:\n",
        "        majority = y.value_counts().idxmax()\n",
        "        return {'is_leaf': True, 'prediction': majority}\n",
        "\n",
        "    # Otherwise, create an internal node\n",
        "    tree = {\n",
        "        'is_leaf': False,\n",
        "        'feature': feat,\n",
        "        'branches': {}\n",
        "    }\n",
        "    # For each category of the chosen feature, build a subtree\n",
        "    for val in X[feat].unique():\n",
        "        mask = (X[feat] == val)\n",
        "        X_sub = X[mask].drop(columns=[feat])  # remove used feature\n",
        "        y_sub = y[mask]\n",
        "        tree['branches'][val] = build_tree(X_sub, y_sub, min_samples)\n",
        "\n",
        "    return tree\n",
        "\n",
        "# 3) Classify a new sample by walking down the tree\n",
        "def classify(tree, x):\n",
        "    # If we've reached a leaf, return its prediction\n",
        "    if tree['is_leaf']:\n",
        "        return tree['prediction']\n",
        "    feat = tree['feature']\n",
        "    val  = x[feat]\n",
        "    # If the sample has a value we didn't see during training, pick the majority branch\n",
        "    if val not in tree['branches']:\n",
        "        preds = [sub['prediction'] for sub in tree['branches'].values() if sub['is_leaf']]\n",
        "        return max(set(preds), key=preds.count)\n",
        "    # Otherwise, keep descending\n",
        "    return classify(tree['branches'][val], x)\n",
        "\n",
        "# Example: build the IG tree and test on one sample\n",
        "ig_tree = build_tree(X_train, y_train)\n",
        "sample = X_test.iloc[0]\n",
        "pred   = classify(ig_tree, sample)\n",
        "print(\"Predicted:\", pred, \"  True:\", y_test.iloc[0])\n",
        "\n"
      ]
    },
    {
      "cell_type": "markdown",
      "id": "74cc8472-3a48-40f6-af8c-a14044f9eaec",
      "metadata": {
        "id": "74cc8472-3a48-40f6-af8c-a14044f9eaec"
      },
      "source": [
        "##\n",
        "**Building the Information‑Gain Tree – Interpretation**  \n",
        "We begin by using the `best_split_feature` function to scan all features and select the one that yields the largest decrease in entropy, i.e., the highest information gain. Once the top feature is chosen, the `build_tree` function splits the data on that feature and then applies the same logic recursively to each resulting subset. This process continues until one of three stopping criteria is met: all records in a node share the same class, no feature provides additional information gain (gain = 0), or the node contains too few samples (minimum sample size set to 1). At each terminal node, the most frequent class label is stored as the prediction. Through this recursive splitting and stopping procedure, we construct a complete decision tree ready to classify new instances.\n",
        "##"
      ]
    },
    {
      "cell_type": "markdown",
      "id": "7af664c1-9df3-4e99-80c4-391370f601fa",
      "metadata": {
        "id": "7af664c1-9df3-4e99-80c4-391370f601fa"
      },
      "source": [
        "### 2.3 Evaluating the Information‑Gain Tree\n",
        "\n",
        "We generate predictions on the test set using our custom IG‑based tree, compute overall accuracy, and display a confusion matrix to understand class‑by‑class performance.\n"
      ]
    },
    {
      "cell_type": "code",
      "execution_count": null,
      "id": "30165006",
      "metadata": {
        "id": "30165006",
        "outputId": "e842b984-faff-4b84-ae04-76042e61440a"
      },
      "outputs": [
        {
          "name": "stdout",
          "output_type": "stream",
          "text": [
            "IG‐Tree Test Accuracy: 0.9782\n",
            "Confusion Matrix (rows=true, cols=pred):\n",
            "[[1492    0    0    0    0]\n",
            " [   0 1477    0   19   23]\n",
            " [   0    0    0    0    0]\n",
            " [   0   32    0 1374    0]\n",
            " [   0   23    2    0   94]]\n"
          ]
        }
      ],
      "source": [
        "# 1) Generate predictions for the whole test set\n",
        "y_pred = X_test.apply(lambda row: classify(ig_tree, row), axis=1)\n",
        "\n",
        "# 2) Compute accuracy\n",
        "acc = accuracy_score(y_test, y_pred)\n",
        "print(f\"IG‐Tree Test Accuracy: {acc:.4f}\")\n",
        "\n",
        "# 3) Build and display confusion matrix\n",
        "cm = confusion_matrix(y_test, y_pred, labels=sorted(y.unique()))\n",
        "print(\"Confusion Matrix (rows=true, cols=pred):\")\n",
        "print(cm)\n"
      ]
    },
    {
      "cell_type": "markdown",
      "id": "4e1b3406-3532-4d3c-b9ef-9b07845280d8",
      "metadata": {
        "id": "4e1b3406-3532-4d3c-b9ef-9b07845280d8"
      },
      "source": [
        "##\n",
        "**Evaluating the Information‑Gain Tree – Interpretation**  \n",
        "On the test set, our Information‑Gain tree achieved an accuracy of **97.82%**, indicating that it correctly classified the vast majority of applications. The confusion matrix tells us more about the mistakes that remain: most errors occur when the “priority” class is occasionally labeled as “spec_prior” or “very_recom,” and a few “spec_prior” cases slip into “priority.” Since the single “recommend” instance wasn’t in the test split, its row is empty. Overall, the tree does an excellent job on the dominant classes but shows minor confusion between categories that are conceptually close.  \n",
        "##"
      ]
    },
    {
      "cell_type": "markdown",
      "id": "c228b2ef-a8d6-4548-9638-a5ba66589ebd",
      "metadata": {
        "id": "c228b2ef-a8d6-4548-9638-a5ba66589ebd"
      },
      "source": [
        "### 2.4 Gini Index: Impurity & Split Metric\n",
        "\n",
        "Next, we define the Gini impurity and compute Gini gain for categorical splits, as an alternative splitting criterion that measures the probability of misclassification.\n"
      ]
    },
    {
      "cell_type": "code",
      "execution_count": null,
      "id": "d82df7b4",
      "metadata": {
        "id": "d82df7b4",
        "outputId": "7c0cc5ad-e472-4f20-956e-74dbea4b2d11"
      },
      "outputs": [
        {
          "name": "stdout",
          "output_type": "stream",
          "text": [
            "Gini of full training labels: 0.6822086689615556\n",
            "Gini‑Gain(usual): 0.02387087816251232\n",
            "Gini‑Gain(proper): 0.07252107048728695\n",
            "Gini‑Gain(complete): 0.001172886431111353\n"
          ]
        }
      ],
      "source": [
        "def gini_impurity(labels):\n",
        "    # count how many samples of each class we have\n",
        "    counts = np.bincount(labels)\n",
        "    # turn counts into probabilities, ignoring zero counts\n",
        "    probs  = counts[counts > 0] / len(labels)\n",
        "    # Gini impurity formula: 1 minus sum of squared probabilities\n",
        "    return 1.0 - np.sum(probs**2)\n",
        "\n",
        "def gini_gain(feature_values, labels):\n",
        "    \"\"\"\n",
        "    Compute Gini gain = impurity(parent) minus weighted impurity(children)\n",
        "    for one categorical feature.\n",
        "    \"\"\"\n",
        "    # impurity before splitting\n",
        "    parent_gini = gini_impurity(labels)\n",
        "    # look at each category and how many samples it has\n",
        "    unique_vals, counts = np.unique(feature_values, return_counts=True)\n",
        "    weighted_gini = 0.0\n",
        "    # for each category, add its share of impurity\n",
        "    for val, count in zip(unique_vals, counts):\n",
        "        subset = labels[feature_values == val]\n",
        "        weighted_gini += (count / len(labels)) * gini_impurity(subset)\n",
        "    # gain is how much impurity we reduce by splitting\n",
        "    return parent_gini - weighted_gini\n",
        "\n",
        "# Quick check on our training labels\n",
        "print(\"Gini of full training labels:\", gini_impurity(y_train.values))\n",
        "# Show Gini gain for the first three features to see which splits help most\n",
        "for feat in X_train.columns[:3]:\n",
        "    print(f\"Gini‑Gain({feat}):\", gini_gain(X_train[feat].values, y_train.values))\n"
      ]
    },
    {
      "cell_type": "markdown",
      "id": "37cd4fcf-6e64-4482-bccd-afd2f6752105",
      "metadata": {
        "id": "37cd4fcf-6e64-4482-bccd-afd2f6752105"
      },
      "source": [
        "##\n",
        "**Gini Impurity & Gini Gain – Interpretation**  \n",
        "The Gini impurity of the full training labels is **0.682**, which measures the chance of misclassification if we randomly label an instance according to the training distribution. When we compute Gini gain for each feature, we see a pattern similar to information gain: **`proper`** offers the highest Gini gain (~0.073), followed by **`usual`** (~0.024), while **`complete`** remains almost useless (~0.001). This confirms that splitting on `proper` most effectively reduces impurity under the Gini criterion.\n",
        "##"
      ]
    },
    {
      "cell_type": "markdown",
      "id": "4fbbd274-afd6-4791-a93f-60f61ebd537c",
      "metadata": {
        "id": "4fbbd274-afd6-4791-a93f-60f61ebd537c"
      },
      "source": [
        "### 2.5 Building & Evaluating the Gini‑Based Tree\n",
        "\n",
        "We mirror the IG approach to construct a Gini‑based tree with the same stopping rules, then evaluate its accuracy and confusion matrix on the test set.\n"
      ]
    },
    {
      "cell_type": "code",
      "execution_count": null,
      "id": "3a10ab08",
      "metadata": {
        "id": "3a10ab08",
        "outputId": "0798dc6a-b991-4279-9cf5-45b3ed71b710"
      },
      "outputs": [
        {
          "name": "stdout",
          "output_type": "stream",
          "text": [
            "Gini‑Tree Accuracy: 0.9788359788359788\n",
            "Gini‑Tree Confusion Matrix:\n",
            "[[1492    0    0    0    0]\n",
            " [   0 1480    0   14   25]\n",
            " [   0    0    0    0    0]\n",
            " [   0   32    0 1374    0]\n",
            " [   0   23    2    0   94]]\n"
          ]
        }
      ],
      "source": [
        "def best_split_feature_gini(X, y):\n",
        "    # compute Gini gain for each feature\n",
        "    gains = {feat: gini_gain(X[feat].values, y.values)\n",
        "             for feat in X.columns}\n",
        "    # pick the feature with the highest Gini gain\n",
        "    best_feat = max(gains, key=gains.get)\n",
        "    return best_feat, gains[best_feat]\n",
        "\n",
        "def build_tree_gini(X, y, min_samples=1):\n",
        "    # stop if all samples in y are the same class, or no features left, or too few samples\n",
        "    if len(set(y)) == 1 or X.shape[1] == 0 or len(y) <= min_samples:\n",
        "        return {'is_leaf': True, 'prediction': y.value_counts().idxmax()}\n",
        "\n",
        "    # choose the best feature by Gini gain\n",
        "    feat, gain = best_split_feature_gini(X, y)\n",
        "    # if no gain, make a leaf predicting the majority class\n",
        "    if gain == 0:\n",
        "        return {'is_leaf': True, 'prediction': y.value_counts().idxmax()}\n",
        "\n",
        "    # create a node that splits on this feature\n",
        "    tree = {'is_leaf': False, 'feature': feat, 'branches': {}}\n",
        "    # for each category of that feature, build a subtree\n",
        "    for val in X[feat].unique():\n",
        "        mask = (X[feat] == val)\n",
        "        # drop the used feature in the subset\n",
        "        subtree = build_tree_gini(X[mask].drop(columns=[feat]), y[mask], min_samples)\n",
        "        tree['branches'][val] = subtree\n",
        "\n",
        "    return tree\n",
        "\n",
        "# Build the Gini tree on the training data\n",
        "gini_tree = build_tree_gini(X_train, y_train)\n",
        "\n",
        "# Use our classify function to get predictions\n",
        "y_pred_gini = X_test.apply(lambda row: classify(gini_tree, row), axis=1)\n",
        "\n",
        "# Print accuracy and confusion matrix to see how well it did\n",
        "print(\"Gini‑Tree Accuracy:\", accuracy_score(y_test, y_pred_gini))\n",
        "print(\"Gini‑Tree Confusion Matrix:\")\n",
        "print(confusion_matrix(y_test, y_pred_gini, labels=sorted(y.unique())))\n"
      ]
    },
    {
      "cell_type": "markdown",
      "id": "1873ae36-1be7-4881-be44-3cf55d774761",
      "metadata": {
        "id": "1873ae36-1be7-4881-be44-3cf55d774761"
      },
      "source": [
        "##\n",
        "**Building & Evaluating the Gini‑Based Tree – Interpretation**  \n",
        "Our Gini‑based decision tree achieved an accuracy of **97.88%** on the test set, slightly outperforming the Information‑Gain tree. The confusion matrix reveals the same basic error patterns—most misclassifications occur between “priority” and “spec_prior,” and a few “very_recom” instances are confused with “priority”—but with marginally fewer mistakes overall. This suggests that using the Gini impurity criterion helps the tree make slightly cleaner splits for our categorical data.\n",
        "##"
      ]
    },
    {
      "cell_type": "markdown",
      "id": "83121c0f-a32d-4059-8abf-a0d49a5b8799",
      "metadata": {
        "id": "83121c0f-a32d-4059-8abf-a0d49a5b8799"
      },
      "source": [
        "## 3 – Ensemble Classifier\n",
        "\n",
        "### 3.1 Weighted Majority Voting\n",
        "\n",
        "We combine the IG and Gini trees’ predictions via a weighted vote. By adjusting the weights, we aim to leverage complementary strengths of each tree to improve overall accuracy.\n"
      ]
    },
    {
      "cell_type": "code",
      "execution_count": null,
      "id": "6a660163",
      "metadata": {
        "scrolled": true,
        "id": "6a660163",
        "outputId": "93a9eaa0-23be-4281-add0-915b274f53d7"
      },
      "outputs": [
        {
          "name": "stdout",
          "output_type": "stream",
          "text": [
            "Ensemble Accuracy (0.3/0.7 weights): 0.9788\n",
            "Ensemble Confusion Matrix:\n",
            "[[1492    0    0    0    0]\n",
            " [   0 1480    0   14   25]\n",
            " [   0    0    0    0    0]\n",
            " [   0   32    0 1374    0]\n",
            " [   0   23    2    0   94]]\n"
          ]
        }
      ],
      "source": [
        "# 1. Get predictions from both trees on the test set\n",
        "y_pred_ig   = X_test.apply(lambda row: classify(ig_tree, row), axis=1)\n",
        "y_pred_gini = X_test.apply(lambda row: classify(gini_tree, row), axis=1)\n",
        "\n",
        "# 2. Set weights for each model (IG tree = 30%, Gini tree = 70%)\n",
        "w_ig, w_gini = 0.3, 0.7\n",
        "\n",
        "# 3. Build ensemble predictions by weighted majority vote\n",
        "ensemble_preds = []\n",
        "for ig_p, gi_p in zip(y_pred_ig, y_pred_gini):\n",
        "    votes = {}\n",
        "    # add weight to IG tree's vote\n",
        "    votes[ig_p]   = votes.get(ig_p, 0) + w_ig\n",
        "    # add weight to Gini tree's vote\n",
        "    votes[gi_p]   = votes.get(gi_p, 0) + w_gini\n",
        "    # choose the class with the highest total weight\n",
        "    ensemble_preds.append(max(votes, key=votes.get))\n",
        "\n",
        "# 4. Compute accuracy and confusion matrix for the ensemble\n",
        "ens_acc = accuracy_score(y_test, ensemble_preds)\n",
        "ens_cm  = confusion_matrix(y_test, ensemble_preds, labels=sorted(y.unique()))\n",
        "\n",
        "print(f\"Ensemble Accuracy (0.3/0.7 weights): {ens_acc:.4f}\")\n",
        "print(\"Ensemble Confusion Matrix:\")\n",
        "print(ens_cm)\n"
      ]
    },
    {
      "cell_type": "markdown",
      "id": "4c3b9eb6-4f48-4979-8478-ab8d92963fe6",
      "metadata": {
        "id": "4c3b9eb6-4f48-4979-8478-ab8d92963fe6"
      },
      "source": [
        "##\n",
        "**Ensemble Classifier – Interpretation**  \n",
        "By combining the IG and Gini trees with a 0.3/0.7 weighting, our ensemble reached an accuracy of **97.88%**, matching the stronger Gini tree. This tells us that the Gini‐based splits carry the most predictive power, and adding a smaller contribution from the IG tree does not materially change overall performance. The weighted voting approach confirms there is little complementary information left to capture beyond what the Gini tree already provides.\n",
        "##"
      ]
    },
    {
      "cell_type": "markdown",
      "id": "97e605f4-4272-4153-a07e-de976253db7c",
      "metadata": {
        "id": "97e605f4-4272-4153-a07e-de976253db7c"
      },
      "source": [
        "## 4 – Model Evaluation & Visualization\n",
        "\n",
        "### 4.1 Accuracy Comparison\n",
        "\n",
        "A bar chart comparing test accuracies of the IG tree, Gini tree, and their ensemble highlights which approach performs best.\n"
      ]
    },
    {
      "cell_type": "code",
      "execution_count": null,
      "id": "f83be2e2",
      "metadata": {
        "id": "f83be2e2",
        "outputId": "8893afe8-93d5-4272-e2df-20c05ddbb35e"
      },
      "outputs": [
        {
          "data": {
            "image/png": "[encoded data removed]",
            "text/plain": [
              "<Figure size 600x400 with 1 Axes>"
            ]
          },
          "metadata": {},
          "output_type": "display_data"
        }
      ],
      "source": [
        "# names of the three models we want to compare\n",
        "models = ['IG Tree', 'Gini Tree', 'Ensemble']\n",
        "# their test set accuracies\n",
        "accs   = [0.9782, 0.9788359788359788, 0.9788]\n",
        "\n",
        "# find the lowest and highest accuracy values\n",
        "min_acc = min(accs)\n",
        "max_acc = max(accs)\n",
        "# add some space above and below the bars for clarity\n",
        "margin = (max_acc - min_acc) * 0.5\n",
        "\n",
        "plt.figure(figsize=(6, 4))                      # set figure size\n",
        "plt.bar(models, accs)                           # draw the bar chart\n",
        "plt.ylabel('Accuracy')                          # y-axis label\n",
        "plt.ylim(min_acc - margin, max_acc + margin)    # zoom in on the accuracy range\n",
        "plt.title('Test Accuracies of Models (Zoomed In)')  # chart title\n",
        "plt.show()                                      # display the plot\n"
      ]
    },
    {
      "cell_type": "markdown",
      "id": "420e21d9-47a1-4a5d-8b64-2e241eee8ac4",
      "metadata": {
        "id": "420e21d9-47a1-4a5d-8b64-2e241eee8ac4"
      },
      "source": [
        "##\n",
        "**Accuracy Comparison – Interpretation**  \n",
        "The bar chart shows test accuracies of:  \n",
        "- IG Tree: 97.82%  \n",
        "- Gini Tree: 97.88%  \n",
        "- Ensemble: 97.88%  \n",
        "\n",
        "This visualization makes it clear that the Gini criterion yields a slightly better base model than Information Gain, and that our ensemble’s accuracy simply aligns with the Gini tree when weighted in its favor.\n",
        "##"
      ]
    },
    {
      "cell_type": "markdown",
      "id": "5ad53e26-c6d1-4df5-8734-6c120870c652",
      "metadata": {
        "id": "5ad53e26-c6d1-4df5-8734-6c120870c652"
      },
      "source": [
        "### 4.2 Confusion Matrix Heatmap\n",
        "\n",
        "We visualize the ensemble’s confusion matrix as a heatmap to see detailed class‑level performance and error patterns.\n"
      ]
    },
    {
      "cell_type": "code",
      "execution_count": null,
      "id": "075da786-07e3-49a5-9bc7-0c6bd345bb4f",
      "metadata": {
        "id": "075da786-07e3-49a5-9bc7-0c6bd345bb4f",
        "outputId": "4aa61c21-9c5f-4c56-981b-0df874d8e3f9"
      },
      "outputs": [
        {
          "data": {
            "image/png": "[encoded data removed]",
            "text/plain": [
              "<Figure size 600x500 with 2 Axes>"
            ]
          },
          "metadata": {},
          "output_type": "display_data"
        }
      ],
      "source": [
        "# Compute confusion matrix for the ensemble’s predictions\n",
        "cm = confusion_matrix(y_test, ensemble_preds, labels=sorted(y.unique()))\n",
        "\n",
        "plt.figure(figsize=(6, 5))\n",
        "plt.imshow(cm, cmap='Blues', interpolation='nearest')  # display as a blue heatmap\n",
        "plt.title('Ensemble Confusion Matrix Heatmap')\n",
        "plt.xlabel('Predicted label')\n",
        "plt.ylabel('True label')\n",
        "plt.colorbar(label='Count')  # show color scale for counts\n",
        "\n",
        "# Annotate each cell with its count\n",
        "for i in range(cm.shape[0]):\n",
        "    for j in range(cm.shape[1]):\n",
        "        plt.text(j, i, cm[i, j], ha='center', va='center')\n",
        "\n",
        "plt.tight_layout()            # adjust spacing so labels fit\n",
        "plt.savefig('ensemble_cm.png')  # save the figure\n",
        "plt.show()                   # display the plot\n"
      ]
    },
    {
      "cell_type": "markdown",
      "id": "43b7189e-3c53-40a6-b36b-ed6e5ccb3a97",
      "metadata": {
        "id": "43b7189e-3c53-40a6-b36b-ed6e5ccb3a97"
      },
      "source": [
        "##\n",
        "**Ensemble Confusion Matrix Heatmap – Interpretation**  \n",
        "The heatmap of the ensemble confusion matrix visually highlights the strong diagonal (correct predictions) and the few off‑diagonal errors. Darkest cells along the diagonal confirm high true‐positive counts for each class, while lighter cells at (priority-->spec_prior) and (spec_prior-->priority) illustrate where the model still confuses those adjacent categories.\n",
        "##"
      ]
    },
    {
      "cell_type": "markdown",
      "id": "dce092bf-31c9-4293-be39-17ed35cccc96",
      "metadata": {
        "id": "dce092bf-31c9-4293-be39-17ed35cccc96"
      },
      "source": [
        "### 4.3 Tree Structure: Textual Representation\n",
        "\n",
        "As a textual visualization, we display the root split and its immediate branches of the IG tree to illustrate how the decision process begins.\n"
      ]
    },
    {
      "cell_type": "code",
      "execution_count": null,
      "id": "2b47f912",
      "metadata": {
        "id": "2b47f912",
        "outputId": "5b65a87f-f250-4f5c-e457-a58d30e830a7"
      },
      "outputs": [
        {
          "name": "stdout",
          "output_type": "stream",
          "text": [
            "Root splits on feature: recommended\n",
            "\n",
            " If recommended == 2:  split on → proper\n",
            " If recommended == 1:  split on → proper\n",
            " If recommended == 0:  Predict → 0\n"
          ]
        }
      ],
      "source": [
        "# Show the very first decision in the IG tree\n",
        "root_feat = ig_tree['feature']                  # get the feature used at the root node\n",
        "print(f\"Root splits on feature: {root_feat}\\n\")\n",
        "\n",
        "# For each possible value of that root feature, show what happens next\n",
        "for val, node in ig_tree['branches'].items():\n",
        "    if node.get('is_leaf', False):\n",
        "        # if it's a leaf, show the predicted class\n",
        "        print(f\" If {root_feat} == {val}:  Predict → {node['prediction']}\")\n",
        "    else:\n",
        "        # if it's not a leaf, show which feature it splits on next\n",
        "        print(f\" If {root_feat} == {val}:  split on → {node['feature']}\")\n"
      ]
    },
    {
      "cell_type": "markdown",
      "id": "6e57bd66-78d4-4803-976c-3c2e586270cd",
      "metadata": {
        "id": "6e57bd66-78d4-4803-976c-3c2e586270cd"
      },
      "source": [
        "##\n",
        "**Tree Structure: Root Split – Interpretation**  \n",
        "Our textual snapshot shows the IG tree’s very first decision:  \n",
        "- It splits on the `recommended` feature.  \n",
        "- Two of its categories lead directly to further splits on `proper`, while the third maps to a leaf predicting “not_recom.”  \n",
        "\n",
        "This concise view demonstrates how the tree immediately uses `recommended` to partition the data, before diving into more detailed splits on other features.\n",
        "##"
      ]
    },
    {
      "cell_type": "markdown",
      "id": "4a4b66c7-16d3-40dd-b828-31f0ba014a9c",
      "metadata": {
        "id": "4a4b66c7-16d3-40dd-b828-31f0ba014a9c"
      },
      "source": [
        "## 5 – Conclusion\n",
        "\n",
        "In this task, we built two from‑scratch decision trees—one using Information Gain and one using the Gini Index—on a 65/35 split of the Nursery dataset. The Gini‑based tree achieved slightly higher accuracy (97.88% vs. 97.82%) and our weighted‑voting ensemble matched that performance, showing that Gini splits capture the strongest predictive signal. Confusion‑matrix analysis revealed most remaining errors occur between adjacent categories, and the extreme class imbalance (notably the single “recommend” sample absent from the test set) limits evaluation of the rarest class. Future improvements could include resampling or cost‑sensitive splits to handle imbalance, as well as pruning or more advanced ensemble methods to boost minority‑class performance.\n"
      ]
    }
  ],
  "metadata": {
    "kernelspec": {
      "display_name": "Python 3 (ipykernel)",
      "language": "python",
      "name": "python3"
    },
    "language_info": {
      "codemirror_mode": {
        "name": "ipython",
        "version": 3
      },
      "file_extension": ".py",
      "mimetype": "text/x-python",
      "name": "python",
      "nbconvert_exporter": "python",
      "pygments_lexer": "ipython3",
      "version": "3.13.0"
    },
    "colab": {
      "provenance": [],
      "include_colab_link": true
    }
  },
  "nbformat": 4,
  "nbformat_minor": 5
}